{
 "cells": [
  {
   "cell_type": "code",
   "execution_count": null,
   "id": "d9fb4db6",
   "metadata": {},
   "outputs": [],
   "source": [
    "# %% [markdown]\n",
    "# # 2. Training an scPred Model\n",
    "# \n",
    "# This notebook loads the preprocessed reference data and trains\n",
    "# our `ScPredModel`.\n",
    "\n",
    "# %%\n",
    "import scanpy as sc\n",
    "import anndata as ad\n",
    "import numpy as np\n",
    "import os\n",
    "import sys\n",
    "import pickle\n",
    "\n",
    "# Add project root to path\n",
    "module_path = os.path.abspath(os.path.join('..'))\n",
    "if module_path not in sys.path:\n",
    "    sys.path.append(module_path)\n",
    "\n",
    "from scpred_py import ScPredModel"
   ]
  },
  {
   "cell_type": "code",
   "execution_count": null,
   "id": "d5134755",
   "metadata": {},
   "outputs": [],
   "source": [
    "# %% [markdown]\n",
    "# ## Load Reference Data\n",
    "\n",
    "# %%\n",
    "ref_adata = ad.read_h5ad('../data/processed/pbmc3k_ref.h5ad')\n",
    "print(ref_adata)\n",
    "print(\"Cell types:\\n\", ref_adata.obs['cell_type'].value_counts())"
   ]
  },
  {
   "cell_type": "code",
   "execution_count": null,
   "id": "ce455e90",
   "metadata": {},
   "outputs": [],
   "source": [
    "# %% [markdown]\n",
    "# ## Initialize and Train the Model\n",
    "# \n",
    "# We use the `ScPredModel` class and train it on our reference data.\n",
    "# We need to specify which column in `.obs` contains the cell type labels.\n",
    "\n",
    "# %%\n",
    "scpred_model = ScPredModel()\n",
    "\n",
    "# Train the model\n",
    "scpred_model.train(ref_adata, cell_type_key='cell_type', n_components=30)\n",
    "\n",
    "print(\"\\nModel Trained!\")\n",
    "print(\"PCA Model:\", scpred_model.pca_model_)\n",
    "print(\"Classifier:\", scpred_model.classifier_)\n",
    "print(\"Reference Genes:\", len(scpred_model.reference_genes_))"
   ]
  },
  {
   "cell_type": "code",
   "execution_count": null,
   "id": "9e4fb8e1",
   "metadata": {},
   "outputs": [],
   "source": [
    "# %% [markdown]\n",
    "# ## Save the Trained Model\n",
    "# \n",
    "# We can save the trained model object using `pickle` for later use.\n",
    "\n",
    "# %%\n",
    "if not os.path.exists('../models'):\n",
    "    os.makedirs('../models')\n",
    "\n",
    "with open('../models/scpred_pbmc3k_model.pkl', 'wb') as f:\n",
    "    pickle.dump(scpred_model, f)\n",
    "\n",
    "print(\"Trained model saved to ../models/scpred_pbmc3k_model.pkl\")"
   ]
  }
 ],
 "metadata": {
  "language_info": {
   "name": "python"
  }
 },
 "nbformat": 4,
 "nbformat_minor": 5
}
