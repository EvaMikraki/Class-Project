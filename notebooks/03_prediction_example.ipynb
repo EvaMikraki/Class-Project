{
 "cells": [
  {
   "cell_type": "code",
   "execution_count": null,
   "id": "505aff2e",
   "metadata": {},
   "outputs": [],
   "source": [
    "# %% [markdown]\n",
    "# # 3. Predicting with an scPred Model\n",
    "# \n",
    "# This notebook loads a trained `ScPredModel` and the query data,\n",
    "# then performs cell type prediction.\n",
    "\n",
    "# %%\n",
    "import scanpy as sc\n",
    "import anndata as ad\n",
    "import numpy as np\n",
    "import pandas as pd\n",
    "import os\n",
    "import sys\n",
    "import pickle\n",
    "import matplotlib.pyplot as plt\n",
    "import seaborn as sns\n",
    "from sklearn.metrics import classification_report, confusion_matrix\n",
    "\n",
    "# Add project root to path\n",
    "module_path = os.path.abspath(os.path.join('..'))\n",
    "if module_path not in sys.path:\n",
    "    sys.path.append(module_path)"
   ]
  },
  {
   "cell_type": "code",
   "execution_count": null,
   "id": "e5de1c92",
   "metadata": {},
   "outputs": [],
   "source": [
    "# %% [markdown]\n",
    "# ## Load Model and Query Data\n",
    "\n",
    "# %%\n",
    "# Load the trained model\n",
    "with open('../models/scpred_pbmc3k_model.pkl', 'rb') as f:\n",
    "    scpred_model = pickle.load(f)\n",
    "\n",
    "print(\"Loaded Model:\", scpred_model)\n",
    "\n",
    "# Load the query data\n",
    "query_adata = ad.read_h5ad('../data/processed/pbmc3k_query.h5ad')\n",
    "print(\"\\nQuery Data:\", query_adata)"
   ]
  },
  {
   "cell_type": "code",
   "execution_count": null,
   "id": "c0d10c66",
   "metadata": {},
   "outputs": [],
   "source": [
    "# %% [markdown]\n",
    "# ## Perform Prediction\n",
    "# \n",
    "# We use the `predict` method of our loaded model.\n",
    "# **Important**: The current `_core.py` implementation re-fits PCA\n",
    "# on common genes and scales the query data. This is a simplification\n",
    "# and a key area to refine based on the original scPred paper for\n",
    "# maximum accuracy.\n",
    "\n",
    "# %%\n",
    "query_adata_pred = scpred_model.predict(query_adata)\n",
    "\n",
    "print(\"\\nQuery Data with Predictions:\")\n",
    "print(query_adata_pred.obs[['cell_type', 'scpred_prediction']].head())"
   ]
  },
  {
   "cell_type": "code",
   "execution_count": null,
   "id": "c9d29e9f",
   "metadata": {},
   "outputs": [],
   "source": [
    "# %% [markdown]\n",
    "# ## Evaluate Predictions\n",
    "# \n",
    "# Since our query data *does* have true labels (because we split it),\n",
    "# we can evaluate the performance.\n",
    "\n",
    "# %%\n",
    "true_labels = query_adata_pred.obs['cell_type']\n",
    "predicted_labels = query_adata_pred.obs['scpred_prediction']\n",
    "\n",
    "print(\"\\nClassification Report:\\n\")\n",
    "print(classification_report(true_labels, predicted_labels))"
   ]
  },
  {
   "cell_type": "code",
   "execution_count": null,
   "id": "cbf098e3",
   "metadata": {},
   "outputs": [],
   "source": [
    "# %% [markdown]\n",
    "# ## Visualize Results\n",
    "# \n",
    "# Let's visualize the confusion matrix.\n",
    "\n",
    "# %%\n",
    "cm = confusion_matrix(true_labels, predicted_labels, labels=scpred_model.classifier_.classes_)\n",
    "cm_df = pd.DataFrame(cm, index=scpred_model.classifier_.classes_, columns=scpred_model.classifier_.classes_)\n",
    "\n",
    "plt.figure(figsize=(8, 6))\n",
    "sns.heatmap(cm_df, annot=True, fmt='d', cmap='Blues')\n",
    "plt.title('Confusion Matrix')\n",
    "plt.xlabel('Predicted Label')\n",
    "plt.ylabel('True Label')\n",
    "plt.show()"
   ]
  },
  {
   "cell_type": "code",
   "execution_count": null,
   "id": "71f1ee22",
   "metadata": {},
   "outputs": [],
   "source": [
    "# %% [markdown]\n",
    "# We can also visualize the UMAP of the query data, colored by true\n",
    "# and predicted labels.\n",
    "\n",
    "# %%\n",
    "# We need to compute UMAP on the query data using its projected PCs\n",
    "query_adata_pred.obsm['X_scpred_pca'] = scpred_model.predict(query_adata_pred.copy()).obsm['X_scpred_pca'] # Re-run predict to get PCs\n",
    "\n",
    "# Calculate UMAP based on *our projected* PCs\n",
    "sc.pp.neighbors(query_adata_pred, n_neighbors=10, use_rep='X_scpred_pca')\n",
    "sc.tl.umap(query_adata_pred)\n",
    "\n",
    "# %%\n",
    "sc.pl.umap(query_adata_pred, color=['cell_type', 'scpred_prediction'], title=['True Labels', 'scPred Predictions'])"
   ]
  },
  {
   "cell_type": "code",
   "execution_count": null,
   "id": "42ada3e4",
   "metadata": {},
   "outputs": [],
   "source": [
    "# %% [markdown]\n",
    "# ## Next Steps\n",
    "# \n",
    "# This shows the basic workflow. To improve this, you should focus on:\n",
    "# 1.  **Hyperparameter Tuning**: Implement `GridSearchCV` in `_training.py`.\n",
    "# 2.  **PCA Projection Accuracy**: Ensure the scaling and gene handling *exactly* match `scPred`'s method before PCA projection. This might involve saving scaling factors from the reference.\n",
    "# 3.  **Feature Selection**: Implement the specific informative gene selection used by `scPred`.\n",
    "# 4.  **Probability Thresholding**: `scPred` includes steps to handle \"unassigned\" cells based on probability thresholds.\n",
    "# 5.  **Robustness & Error Handling**: Add more checks and balances.\n",
    "# 6.  **Testing**: Implement `pytest` tests in the `tests/` directory."
   ]
  }
 ],
 "metadata": {
  "language_info": {
   "name": "python"
  }
 },
 "nbformat": 4,
 "nbformat_minor": 5
}
